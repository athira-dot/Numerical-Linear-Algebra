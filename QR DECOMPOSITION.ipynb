{
 "cells": [
  {
   "cell_type": "markdown",
   "metadata": {},
   "source": [
    "# Implementation of QR algorithm from scratch and compare with built_in numpy funtion"
   ]
  },
  {
   "cell_type": "code",
   "execution_count": 1,
   "metadata": {
    "id": "hhpQyAbc2npR"
   },
   "outputs": [],
   "source": [
    "import numpy as np"
   ]
  },
  {
   "cell_type": "code",
   "execution_count": 2,
   "metadata": {
    "id": "KIxyr4rR2q6b"
   },
   "outputs": [],
   "source": [
    "a1=np.array([8,3,4])\n",
    "a2=np.array([1,5,9])\n",
    "a3=np.array([6,7,2])"
   ]
  },
  {
   "cell_type": "code",
   "execution_count": 3,
   "metadata": {
    "id": "D_h2bMWy7xng"
   },
   "outputs": [
    {
     "data": {
      "text/plain": [
       "'\\na1=np.array([8,1,6])\\na2=np.array([3,5,7])\\na3=np.array([4,9,2])\\n'"
      ]
     },
     "execution_count": 3,
     "metadata": {},
     "output_type": "execute_result"
    }
   ],
   "source": [
    "\"\"\"\n",
    "a1=np.array([8,1,6])\n",
    "a2=np.array([3,5,7])\n",
    "a3=np.array([4,9,2])\n",
    "\"\"\""
   ]
  },
  {
   "cell_type": "code",
   "execution_count": 4,
   "metadata": {
    "id": "z2CtoTmRAS-G"
   },
   "outputs": [],
   "source": [
    "r_manual=np.zeros((3,3))"
   ]
  },
  {
   "cell_type": "markdown",
   "metadata": {
    "id": "CZcwh61gCBux"
   },
   "source": [
    "***Manual Computation of QR algorithm:***"
   ]
  },
  {
   "cell_type": "code",
   "execution_count": 5,
   "metadata": {
    "colab": {
     "base_uri": "https://localhost:8080/"
    },
    "id": "JfuOKKUK29Tw",
    "outputId": "f86dcd1e-e2fe-4271-99e4-ea11e8fe6690"
   },
   "outputs": [
    {
     "name": "stdout",
     "output_type": "stream",
     "text": [
      "[0.8479983  0.31799936 0.42399915]\n",
      "[-0.52229204  0.36546806  0.77048304]\n",
      "[-0.09005497  0.8748197  -0.47600483]\n"
     ]
    }
   ],
   "source": [
    "q1=a1/np.linalg.norm(a1)\n",
    "print(q1)\n",
    "\n",
    "r_manual[0,0]=np.linalg.norm(a1)\n",
    "r_manual[0,1]=q1.T@a2\n",
    "\n",
    "q2=a2-(q1.T@a2)*q1\n",
    "\n",
    "r_manual[1,1]=np.linalg.norm(q2)\n",
    "\n",
    "q2=q2/np.linalg.norm(q2)\n",
    "print(q2)\n",
    "\n",
    "\n",
    "q3=a3-(q1.T@a3)*q1-(q2.T@a3)*q2\n",
    "\n",
    "r_manual[0,2]=q1.T@a3\n",
    "r_manual[1,2]=q2.T@a3\n",
    "r_manual[2,2]=np.linalg.norm(q3)\n",
    "\n",
    "q3=q3/np.linalg.norm(q3)\n",
    "print(q3)\n",
    "\n",
    "\n"
   ]
  },
  {
   "cell_type": "markdown",
   "metadata": {
    "id": "ET_Il-clCMCr"
   },
   "source": [
    "***Checking orthogonality and Orthonormality***"
   ]
  },
  {
   "cell_type": "code",
   "execution_count": 6,
   "metadata": {
    "colab": {
     "base_uri": "https://localhost:8080/"
    },
    "id": "ahXbsEOo4M3T",
    "outputId": "3a904800-4539-4034-a5c6-95d7eca524e3"
   },
   "outputs": [
    {
     "name": "stdout",
     "output_type": "stream",
     "text": [
      "1.0 1.0 0.9999999999999998\n"
     ]
    }
   ],
   "source": [
    "print(np.linalg.norm(q1),np.linalg.norm(q2),np.linalg.norm(q3))"
   ]
  },
  {
   "cell_type": "code",
   "execution_count": 7,
   "metadata": {
    "colab": {
     "base_uri": "https://localhost:8080/"
    },
    "id": "3Osp-r-f6yq5",
    "outputId": "b432af24-1dc6-4aa4-c366-9bb8f9f1bd06"
   },
   "outputs": [
    {
     "name": "stdout",
     "output_type": "stream",
     "text": [
      "-1.6653345369377348e-16 -2.220446049250313e-16 2.220446049250313e-16\n"
     ]
    }
   ],
   "source": [
    "print(q1@q2,q1@q3,q2@q3)"
   ]
  },
  {
   "cell_type": "markdown",
   "metadata": {
    "id": "gvJUKoSFCYE-"
   },
   "source": [
    "***Calling QR algoritm from the numpy package:***"
   ]
  },
  {
   "cell_type": "code",
   "execution_count": 8,
   "metadata": {
    "colab": {
     "base_uri": "https://localhost:8080/"
    },
    "id": "PHxCtrZc7Pbc",
    "outputId": "9c08c202-e030-44b7-cd71-b18950a8713e"
   },
   "outputs": [
    {
     "name": "stdout",
     "output_type": "stream",
     "text": [
      "[[8 1 6]\n",
      " [3 5 7]\n",
      " [4 9 2]]\n"
     ]
    }
   ],
   "source": [
    "matrix1=np.array([[8,1,6],[3,5,7],[4,9,2]])\n",
    "print(matrix1)"
   ]
  },
  {
   "cell_type": "code",
   "execution_count": 9,
   "metadata": {
    "colab": {
     "base_uri": "https://localhost:8080/"
    },
    "id": "do_IpSjB6_I4",
    "outputId": "6eb5970e-5f5e-479d-d936-9afc09033f17"
   },
   "outputs": [
    {
     "name": "stdout",
     "output_type": "stream",
     "text": [
      "\n",
      "q[0]:\n",
      " [-0.8479983  -0.31799936 -0.42399915]\n",
      "\n",
      "q[1]:\n",
      " [ 0.52229204 -0.36546806 -0.77048304]\n",
      "\n",
      "q[2]:\n",
      " [ 0.09005497 -0.8748197   0.47600483]\n"
     ]
    }
   ],
   "source": [
    "q, r = np.linalg.qr(matrix1) \n",
    "\n",
    "print('\\nq[0]:\\n', q[:,0]) \n",
    "print('\\nq[1]:\\n', q[:,1]) \n",
    "print('\\nq[2]:\\n', q[:,2]) "
   ]
  },
  {
   "cell_type": "markdown",
   "metadata": {
    "id": "25pipbcC__Ec"
   },
   "source": [
    "For manulal computations:"
   ]
  },
  {
   "cell_type": "code",
   "execution_count": 10,
   "metadata": {
    "colab": {
     "base_uri": "https://localhost:8080/"
    },
    "id": "eJuTn54KADjn",
    "outputId": "6f5102cc-3eea-4d75-9930-212772adadbc"
   },
   "outputs": [
    {
     "name": "stdout",
     "output_type": "stream",
     "text": [
      "\n",
      "q[0]:\n",
      " [0.8479983  0.31799936 0.42399915]\n",
      "\n",
      "q[1]:\n",
      " [-0.52229204  0.36546806  0.77048304]\n",
      "\n",
      "q[2]:\n",
      " [-0.09005497  0.8748197  -0.47600483]\n"
     ]
    }
   ],
   "source": [
    "\n",
    "print('\\nq[0]:\\n', q1) \n",
    "print('\\nq[1]:\\n', q2) \n",
    "print('\\nq[2]:\\n', q3) "
   ]
  },
  {
   "cell_type": "code",
   "execution_count": 11,
   "metadata": {
    "colab": {
     "base_uri": "https://localhost:8080/"
    },
    "id": "06VWapYzAQuW",
    "outputId": "e8c03ba9-a131-4d9e-fba6-d0b6a06823f3"
   },
   "outputs": [
    {
     "name": "stdout",
     "output_type": "stream",
     "text": [
      "[[-9.43398113 -6.25398749 -8.16198368]\n",
      " [ 0.         -8.23939564 -0.96549025]\n",
      " [ 0.          0.         -4.63139839]]\n"
     ]
    }
   ],
   "source": [
    "print(r)"
   ]
  },
  {
   "cell_type": "code",
   "execution_count": 12,
   "metadata": {
    "colab": {
     "base_uri": "https://localhost:8080/"
    },
    "id": "iwamAbT5BH-S",
    "outputId": "a3218ec8-4972-4592-b801-adb7f9f643b7"
   },
   "outputs": [
    {
     "name": "stdout",
     "output_type": "stream",
     "text": [
      "[[9.43398113 6.25398749 8.16198368]\n",
      " [0.         8.23939564 0.96549025]\n",
      " [0.         0.         4.63139839]]\n"
     ]
    }
   ],
   "source": [
    "print(r_manual)"
   ]
  },
  {
   "cell_type": "markdown",
   "metadata": {
    "id": "8hXMq-hQBxJZ"
   },
   "source": [
    "***QR decomposition is unique.***\n",
    "\n",
    "---\n",
    "\n"
   ]
  }
 ],
 "metadata": {
  "colab": {
   "name": "Untitled41.ipynb",
   "provenance": []
  },
  "kernelspec": {
   "display_name": "Python 3",
   "language": "python",
   "name": "python3"
  },
  "language_info": {
   "codemirror_mode": {
    "name": "ipython",
    "version": 3
   },
   "file_extension": ".py",
   "mimetype": "text/x-python",
   "name": "python",
   "nbconvert_exporter": "python",
   "pygments_lexer": "ipython3",
   "version": "3.8.8"
  }
 },
 "nbformat": 4,
 "nbformat_minor": 1
}
