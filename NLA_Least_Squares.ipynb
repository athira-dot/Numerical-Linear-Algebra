{
 "cells": [
  {
   "cell_type": "markdown",
   "metadata": {},
   "source": [
    "# Checking the universality of least square problem"
   ]
  },
  {
   "cell_type": "markdown",
   "metadata": {},
   "source": [
    "check whether least square solution exist for all systems of equations"
   ]
  },
  {
   "cell_type": "code",
   "execution_count": 3,
   "metadata": {
    "id": "AR24NsC8f7V7"
   },
   "outputs": [],
   "source": [
    "import numpy as np"
   ]
  },
  {
   "cell_type": "code",
   "execution_count": 4,
   "metadata": {
    "id": "ry9oArvegNCz"
   },
   "outputs": [],
   "source": [
    "A1=np.array([[1,2,3],[4,5,6],[1,2,3],[2,8,2]])\n",
    "b1=np.array([1,2,3,4])"
   ]
  },
  {
   "cell_type": "markdown",
   "metadata": {
    "id": "Ozj2PNjsgbE2"
   },
   "source": [
    "Finding the rank of the matrix using SVD:\n",
    "\n"
   ]
  },
  {
   "cell_type": "code",
   "execution_count": 5,
   "metadata": {
    "id": "l3pdpsLpkDss"
   },
   "outputs": [],
   "source": [
    "def rank_of_matrix(A):\n",
    "  u,sigma,vT=np.linalg.svd(A)\n",
    "  return sigma.shape[0]"
   ]
  },
  {
   "cell_type": "markdown",
   "metadata": {
    "id": "rjHhYbqtkJUD"
   },
   "source": [
    "***Solving for the first matrix A***"
   ]
  },
  {
   "cell_type": "markdown",
   "metadata": {
    "id": "2iCaIZ1Ou0uD"
   },
   "source": [
    "From the following we can say that A is full rank matrix."
   ]
  },
  {
   "cell_type": "markdown",
   "metadata": {
    "id": "4vvuCGhyudVp"
   },
   "source": [
    "$A=\\begin{vmatrix}\n",
    "1 &2  &3 \\\\ \n",
    "4 &5  &6 \\\\ \n",
    "1 &2  &3 \\\\ \n",
    "2 &8  &2 \n",
    "\\end{vmatrix}\\sim \\begin{vmatrix}\n",
    "1 &2  &3 \\\\ \n",
    "0 &3  &6 \\\\ \n",
    "0 &0  &0 \\\\ \n",
    "0 &-4  &4 \n",
    "\\end{vmatrix}$"
   ]
  },
  {
   "cell_type": "markdown",
   "metadata": {
    "id": "kKbkZPEYu9Sl"
   },
   "source": [
    "For the full rank matrices always least square solution exists."
   ]
  },
  {
   "cell_type": "code",
   "execution_count": 20,
   "metadata": {
    "colab": {
     "base_uri": "https://localhost:8080/"
    },
    "id": "GXkC4pVthMWz",
    "outputId": "7792dcc7-6061-4569-c3f6-89c3723333ba"
   },
   "outputs": [
    {
     "name": "stdout",
     "output_type": "stream",
     "text": [
      "Its a Full Rank System. Least squares exist.\n"
     ]
    }
   ],
   "source": [
    "rank1=rank_of_matrix(A1)\n",
    "shape_A1=A1.shape\n",
    "if(rank1==shape_A1[0] or rank1==shape_A1[1]):\n",
    "  print(\"Its a Full Rank System. Least squares exist.\")"
   ]
  },
  {
   "cell_type": "code",
   "execution_count": 21,
   "metadata": {
    "colab": {
     "base_uri": "https://localhost:8080/"
    },
    "id": "a_NmZLVVhwmT",
    "outputId": "c78ab9df-4f82-46a4-f89f-ac72688b4a55"
   },
   "outputs": [
    {
     "name": "stdout",
     "output_type": "stream",
     "text": [
      "(3, 3)\n",
      "(3,)\n",
      "(3, 3)\n"
     ]
    }
   ],
   "source": [
    "u,sigma,vT=np.linalg.svd(A1.T@A1)\n",
    "print(u.shape)\n",
    "print(sigma.shape)\n",
    "print(vT.shape)"
   ]
  },
  {
   "cell_type": "code",
   "execution_count": 22,
   "metadata": {
    "colab": {
     "base_uri": "https://localhost:8080/"
    },
    "id": "no5w9zFiiree",
    "outputId": "657c4978-94e4-4687-b6a4-881b3bb08f5c"
   },
   "outputs": [
    {
     "name": "stdout",
     "output_type": "stream",
     "text": [
      "[-1.33333333  0.66666667  0.66666667]\n"
     ]
    }
   ],
   "source": [
    "#solving using the SVD\n",
    "x=vT.T@np.diag(1/sigma)@u.T@A1.T@b1\n",
    "print(x)"
   ]
  },
  {
   "cell_type": "code",
   "execution_count": 23,
   "metadata": {
    "colab": {
     "base_uri": "https://localhost:8080/"
    },
    "id": "o-LZRNNyjkyI",
    "outputId": "34fd701c-f02c-45a0-b6ad-42499fe22cee"
   },
   "outputs": [
    {
     "data": {
      "text/plain": [
       "array([-1.33333333,  0.66666667,  0.66666667])"
      ]
     },
     "execution_count": 23,
     "metadata": {},
     "output_type": "execute_result"
    }
   ],
   "source": [
    "#solving direct normal equations\n",
    "np.linalg.inv(A1.T@A1)@A1.T@b1"
   ]
  },
  {
   "cell_type": "code",
   "execution_count": 24,
   "metadata": {},
   "outputs": [
    {
     "name": "stdout",
     "output_type": "stream",
     "text": [
      "Error using the L2-Norm: 1.4142135623730951\n"
     ]
    }
   ],
   "source": [
    "print(\"Error using the L2-Norm:\",np.linalg.norm(A1@x-b2))"
   ]
  },
  {
   "cell_type": "markdown",
   "metadata": {
    "id": "6eNDMJhKkQmB"
   },
   "source": [
    "***Solving for the second matrix:***"
   ]
  },
  {
   "cell_type": "markdown",
   "metadata": {
    "id": "woJ7qQgpq0vK"
   },
   "source": [
    "From the following we can say that A is not full rank matrix.\n",
    "\n"
   ]
  },
  {
   "cell_type": "markdown",
   "metadata": {
    "id": "dt1YSG7Jqvi2"
   },
   "source": [
    "$A=\\begin{vmatrix}\n",
    "1 &2  &3 \\\\ \n",
    "4 &5  &6 \\\\ \n",
    "1 &2  &3 \\\\ \n",
    "5 &7  &9 \n",
    "\\end{vmatrix}\\sim \\begin{vmatrix}\n",
    "1 &2  &3 \\\\ \n",
    "0 &3  &6 \\\\ \n",
    "0 &0  &0 \\\\ \n",
    "0 &3  &6 \n",
    "\\end{vmatrix}\\sim \\begin{vmatrix}\n",
    " 1&2  &3 \\\\ \n",
    " 0&3  &6 \\\\ \n",
    " 0&0  &0 \\\\ \n",
    " 0&0  &0 \n",
    "\\end{vmatrix}$"
   ]
  },
  {
   "cell_type": "markdown",
   "metadata": {
    "id": "H-kr4cH3rCSv"
   },
   "source": [
    "The rank deficiency matrix usually dont have any least-squares solution but, we give the solution as x which gives the $\\min_{x}\\left \\| b-Ax \\right \\|$"
   ]
  },
  {
   "cell_type": "markdown",
   "metadata": {
    "id": "BVQyekOWrvV9"
   },
   "source": [
    "Singular Value Decomposition is method of choice for the rank deficiency least-squares solution ."
   ]
  },
  {
   "cell_type": "code",
   "execution_count": 14,
   "metadata": {
    "id": "CgdkxbWTgk1E"
   },
   "outputs": [],
   "source": [
    "A2=np.array([[1,2,3],[4,5,6],[1,2,3],[5,7,9]])\n",
    "b2=np.array([1,2,3,4])"
   ]
  },
  {
   "cell_type": "code",
   "execution_count": 15,
   "metadata": {
    "colab": {
     "base_uri": "https://localhost:8080/"
    },
    "id": "5E7MBLG7xKTb",
    "outputId": "2093ccf5-3581-43a9-ab0e-a248e10267f4"
   },
   "outputs": [
    {
     "data": {
      "text/plain": [
       "array([[ 43,  59,  75],\n",
       "       [ 59,  82, 105],\n",
       "       [ 75, 105, 135]])"
      ]
     },
     "execution_count": 15,
     "metadata": {},
     "output_type": "execute_result"
    }
   ],
   "source": [
    "A2.T@A2"
   ]
  },
  {
   "cell_type": "code",
   "execution_count": 16,
   "metadata": {
    "id": "BO381PbPsSa_"
   },
   "outputs": [],
   "source": [
    "u,sigma,vT=np.linalg.svd(A2.T@A2)"
   ]
  },
  {
   "cell_type": "markdown",
   "metadata": {
    "id": "Y1IbcZUVx9uJ"
   },
   "source": [
    "From the following we can notice that only 2 singular values are only active."
   ]
  },
  {
   "cell_type": "markdown",
   "metadata": {},
   "source": [
    "$A_{2}^{T}A_{2}=[u_{1},u_{2}] \\begin{bmatrix}\n",
    "\\sigma _{1} &0 \\\\ \n",
    " 0& \\sigma _{2} \n",
    "\\end{bmatrix} [v_{1}^{T},v_{2}^{T}]$"
   ]
  },
  {
   "cell_type": "code",
   "execution_count": 17,
   "metadata": {
    "colab": {
     "base_uri": "https://localhost:8080/"
    },
    "id": "zXTYRLGNw-k6",
    "outputId": "ec349546-04a7-4abf-8310-f9efe78e87d9"
   },
   "outputs": [
    {
     "data": {
      "text/plain": [
       "array([[ 43.,  59.,  75.],\n",
       "       [ 59.,  82., 105.],\n",
       "       [ 75., 105., 135.]])"
      ]
     },
     "execution_count": 17,
     "metadata": {},
     "output_type": "execute_result"
    }
   ],
   "source": [
    "u[0:3,0:2]@np.diag(sigma)[0:2,0:2]@vT[0:2,0:3]"
   ]
  },
  {
   "cell_type": "markdown",
   "metadata": {},
   "source": [
    "Since, the rank of $A_{2}$ is only two. \n",
    "While calculating the least-squares solution for A2 we use only $[u_{1},u_{2}] ,\\begin{bmatrix}\n",
    "\\sigma _{1} &0 \\\\ \n",
    " 0& \\sigma _{2} \n",
    "\\end{bmatrix} ,[v_{1}^{T},v_{2}^{T}]$ of the $A_{2}^{T}A_{2}$ ."
   ]
  },
  {
   "cell_type": "markdown",
   "metadata": {},
   "source": [
    "$[u_{1},u_{2}] \\begin{bmatrix}\n",
    "\\sigma _{1} &0 \\\\ \n",
    " 0& \\sigma _{2} \n",
    "\\end{bmatrix} [v_{1}^{T},v_{2}^{T}]$x=$A_{2}^{T}b$"
   ]
  },
  {
   "cell_type": "markdown",
   "metadata": {},
   "source": [
    "$x=(\\sigma _{1}u_{1}v_{1}^{T}+\\sigma _{2}u_{2}v_{2}^{T})^{-1}A_{2}^{T}b$"
   ]
  },
  {
   "cell_type": "code",
   "execution_count": 18,
   "metadata": {
    "colab": {
     "base_uri": "https://localhost:8080/"
    },
    "id": "_xXrCvO-sdLt",
    "outputId": "fa9085eb-9c8b-4e5a-e363-404f7e913066"
   },
   "outputs": [
    {
     "name": "stdout",
     "output_type": "stream",
     "text": [
      "[-1.0000000e+00 -4.4408921e-16  1.0000000e+00]\n",
      "Error using the L2-Norm: 1.4142135623730951\n"
     ]
    }
   ],
   "source": [
    "x=vT.T[0:3,0:2]@np.diag(1/sigma)[0:2,0:2]@u.T[0:2,0:3]@A2.T@b2\n",
    "print(x)\n",
    "print(\"Error using the L2-Norm:\",np.linalg.norm(A2@x-b2))"
   ]
  },
  {
   "cell_type": "code",
   "execution_count": null,
   "metadata": {},
   "outputs": [],
   "source": []
  }
 ],
 "metadata": {
  "colab": {
   "name": "NLA_4_2.ipynb",
   "provenance": []
  },
  "kernelspec": {
   "display_name": "Python 3",
   "language": "python",
   "name": "python3"
  },
  "language_info": {
   "codemirror_mode": {
    "name": "ipython",
    "version": 3
   },
   "file_extension": ".py",
   "mimetype": "text/x-python",
   "name": "python",
   "nbconvert_exporter": "python",
   "pygments_lexer": "ipython3",
   "version": "3.8.8"
  }
 },
 "nbformat": 4,
 "nbformat_minor": 1
}
